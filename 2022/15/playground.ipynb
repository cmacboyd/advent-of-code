{
 "cells": [
  {
   "cell_type": "code",
   "execution_count": 40,
   "id": "1da272bb",
   "metadata": {},
   "outputs": [],
   "source": [
    "to_merge = [[0, 2882420], [1388320, 3000000], [3000001, 4000000]]"
   ]
  },
  {
   "cell_type": "code",
   "execution_count": 43,
   "id": "15f271d1",
   "metadata": {},
   "outputs": [],
   "source": [
    "def merge_intervals(intervals):\n",
    "    if len(intervals) == 1:\n",
    "        return intervals\n",
    "    \n",
    "    ints = sorted(intervals, key=lambda x: x[0])\n",
    "    i = 1\n",
    "    wi = ints[0]\n",
    "    new_intervals = []\n",
    "    while i < len(ints):\n",
    "        print(f\"working interval {wi}\")\n",
    "        print(wi, ints[i])\n",
    "        if wi[1] >= ints[i][0] -1:\n",
    "            print(\"here 1\")\n",
    "            wi = [min(wi[0], ints[i][0]), max(wi[1], ints[i][1])]\n",
    "        else:\n",
    "            print(\"here 2\")\n",
    "            new_intervals.append(wi)\n",
    "            wi = ints[i]\n",
    "        \n",
    "        i += 1\n",
    "\n",
    "    new_intervals.append(wi)\n",
    "    return new_intervals"
   ]
  },
  {
   "cell_type": "code",
   "execution_count": 44,
   "id": "8237d958",
   "metadata": {},
   "outputs": [
    {
     "name": "stdout",
     "output_type": "stream",
     "text": [
      "working interval [0, 2882420]\n",
      "[0, 2882420] [1388320, 3000000]\n",
      "here 1\n",
      "working interval [0, 3000000]\n",
      "[0, 3000000] [3000001, 4000000]\n",
      "here 1\n",
      "[[0, 4000000]]\n"
     ]
    }
   ],
   "source": [
    "merge_intervals(to_merge)"
   ]
  },
  {
   "cell_type": "code",
   "execution_count": null,
   "id": "4ccdc4dd",
   "metadata": {},
   "outputs": [],
   "source": []
  }
 ],
 "metadata": {
  "kernelspec": {
   "display_name": "Python 3 (ipykernel)",
   "language": "python",
   "name": "python3"
  },
  "language_info": {
   "codemirror_mode": {
    "name": "ipython",
    "version": 3
   },
   "file_extension": ".py",
   "mimetype": "text/x-python",
   "name": "python",
   "nbconvert_exporter": "python",
   "pygments_lexer": "ipython3",
   "version": "3.9.12"
  }
 },
 "nbformat": 4,
 "nbformat_minor": 5
}
